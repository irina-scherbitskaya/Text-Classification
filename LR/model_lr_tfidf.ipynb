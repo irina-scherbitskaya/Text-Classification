{
 "cells": [
  {
   "cell_type": "code",
   "execution_count": null,
   "metadata": {
    "colab": {},
    "colab_type": "code",
    "id": "sirGx1T_lcWm"
   },
   "outputs": [],
   "source": [
    "import numpy as np\n",
    "import pandas as pd\n",
    "import  matplotlib.pyplot as plt\n",
    "from sklearn import metrics \n",
    "from sklearn.metrics import roc_auc_score, log_loss, accuracy_score\n",
    "from sklearn.model_selection import GridSearchCV, KFold\n",
    "from sklearn.linear_model import LogisticRegression\n",
    "from sklearn.feature_extraction.text import TfidfVectorizer\n",
    "from gensim.models import Word2Vec, KeyedVectors\n",
    "import time\n",
    "import warnings\n",
    "warnings.filterwarnings('ignore')"
   ]
  },
  {
   "cell_type": "code",
   "execution_count": null,
   "metadata": {
    "colab": {},
    "colab_type": "code",
    "id": "qZHaICBPlcWr"
   },
   "outputs": [],
   "source": [
    "def model_lr_gcv(X, y, c):\n",
    "    start = time.time()\n",
    "    scorer = {'log_loss': metrics.make_scorer(log_loss, needs_proba = True),\n",
    "              'roc_auc': metrics.make_scorer(roc_auc_score)}\n",
    "    kf = KFold(n_splits = 5, shuffle = True)\n",
    "    parameters = {'C': [c], 'solver': ['sag'], 'max_iter':[300]}\n",
    "    gcv = GridSearchCV(estimator = LogisticRegression(), param_grid = parameters, \n",
    "                       scoring = scorer, refit = 'roc_auc', cv = kf, n_jobs=2)\n",
    "    \n",
    "    gcv.fit(X, y)\n",
    "    end = time.time()\n",
    "    print('Time %d:%d:%f' %((end - start)//3600,(end - start)//60,(end - start) % 60))\n",
    "    return gcv\n",
    "\n",
    "def tfidf(X_train, X_test, max_features):\n",
    "    tfidf_word = TfidfVectorizer(\n",
    "        analyzer='word',\n",
    "        max_df = 0.1, \n",
    "        ngram_range=(1, 2),\n",
    "        max_features=max_features)\n",
    "    tfidf_X = tfidf_word.fit_transform(X['comment_text'])\n",
    "    tfidf_test_X = tfidf_word.transform(test_X['comment_text'])\n",
    "    return tfidf_X, tfidf_test_X, tfidf_word\n",
    "    \n",
    "    \n",
    "def save_result(out, result, types):\n",
    "    data = pd.DataFrame(index=C, columns=['ROC-AUC', 'Log loss'])\n",
    "    for c, d in result.items():\n",
    "        ra = ''\n",
    "        ll = ''\n",
    "        for t in types:\n",
    "            ra += t + ', ' + str(d[(1, t)]) + '\\n'\n",
    "            ll += t + ', ' + str(d[(0, t)]) + '\\n'\n",
    "        ra += 'average, ' + str(d[1]) + '\\n'\n",
    "        ll += 'average, ' + str(d[0]) + '\\n'\n",
    "        data.loc[c,'ROC-AUC'] = ra\n",
    "        data.loc[c,'Log loss'] = ll\n",
    "    data.to_csv('%s.csv' % out)\n",
    "    \n",
    "def save_plt(res_cv, res_test, name_metric, n, m, t):\n",
    "    plt.clf()\n",
    "    plt.plot([i for i in range(n, m)], res_cv,  'go-', \n",
    "         label='line 1', linewidth = 2, color = 'blue')\n",
    "    plt.plot([i for i in range(n, m)], res_test,  'go-', \n",
    "             label='line 1', linewidth = 2, color = 'orange')\n",
    "    plt.ylim(0, 1)\n",
    "    plt.ylabel('Оценка качества')\n",
    "    plt.xlabel('C=10^x')\n",
    "    plt.title(name_metric)\n",
    "    plt.savefig('%s.png' % (name_metric+'-'+t))\n",
    "    \n",
    "def get_res(id_metric, t, scores):\n",
    "    return [sc.get((id_metric, t)) for sc in scores.values()] "
   ]
  },
  {
   "cell_type": "code",
   "execution_count": null,
   "metadata": {
    "colab": {},
    "colab_type": "code",
    "id": "fv88AZf5lcWw"
   },
   "outputs": [],
   "source": [
    "train = pd.read_csv('processed_train.csv', index_col='id')\n",
    "test_X = pd.read_csv('processed_test.csv', index_col='id')\n",
    "test_y = pd.read_csv('test_labels.csv', index_col='id')\n",
    "types = ['toxic','severe_toxic','obscene','threat','insult','identity_hate']\n",
    "X = train[['comment_text']]\n",
    "test_X =  test_X[['comment_text']]\n",
    "y = train[types]"
   ]
  },
  {
   "cell_type": "code",
   "execution_count": null,
   "metadata": {
    "colab": {},
    "colab_type": "code",
    "id": "rBtVoVNUlcWy"
   },
   "outputs": [],
   "source": [
    "n, m = -1, 3\n",
    "C = [10**i for i in range(n, m)]"
   ]
  },
  {
   "cell_type": "code",
   "execution_count": null,
   "metadata": {
    "colab": {},
    "colab_type": "code",
    "id": "kxQIguoClcW1"
   },
   "outputs": [],
   "source": [
    "max_features = 40000\n",
    "train_data, test_data, model_tfidf = tfidf(X, test_X, max_features)"
   ]
  },
  {
   "cell_type": "code",
   "execution_count": null,
   "metadata": {
    "colab": {
     "base_uri": "https://localhost:8080/",
     "height": 901
    },
    "colab_type": "code",
    "id": "fS7YfrBtlcXB",
    "outputId": "2e9528a1-0480-4a25-f006-2f925fdedd0d"
   },
   "outputs": [],
   "source": [
    "#0 - log_loss, 1 - roc_auc\n",
    "cv_score = {}\n",
    "test_score = {}\n",
    "lr = None\n",
    "for i in C:\n",
    "    print('C = %f:' % i)\n",
    "    cv_score[i] = {}\n",
    "    test_score[i] = {}\n",
    "    for t in types:\n",
    "        print(\"Type %s: \" %t)\n",
    "        testY = np.array(test_y[t])\n",
    "        lr = model_lr_gcv(train_data, y[t], i)\n",
    "        pred_y = np.array(lr.predict(test_data))\n",
    "        pred_proba = lr.predict_proba(test_data)\n",
    "        pred_proba_y = []\n",
    "        for x1, x2 in pred_proba:\n",
    "             pred_proba_y.append(x2)\n",
    "        cv_score[i][(0, t)] = lr.cv_results_['mean_test_log_loss'][0]\n",
    "        cv_score[i][(1, t)] = lr.cv_results_['mean_test_roc_auc'][0]\n",
    "        test_score[i][(0, t)] = log_loss(testY, pred_proba_y),\n",
    "        test_score[i][(1, t)] = roc_auc_score(y_true=testY, y_score=pred_proba_y)"
   ]
  },
  {
   "cell_type": "code",
   "execution_count": null,
   "metadata": {
    "colab": {
     "base_uri": "https://localhost:8080/",
     "height": 295
    },
    "colab_type": "code",
    "id": "K0p8NT4KlcXF",
    "outputId": "38c54f8e-1973-414b-a609-01d37fe5b13a"
   },
   "outputs": [],
   "source": [
    "for t in types:\n",
    "    save_plt(get_res(0, t, cv_score),  get_res(0, t, test_score),\"log_loss\", n, m, t)\n",
    "    save_plt(get_res(1, t, cv_score),  get_res(1, t, test_score),\"ROC_AUC\", n, m, t)"
   ]
  },
  {
   "cell_type": "code",
   "execution_count": null,
   "metadata": {
    "colab": {},
    "colab_type": "code",
    "id": "QW4cuOVvlcXL"
   },
   "outputs": [],
   "source": [
    "for i in C:\n",
    "    cv_score[i][0] = 0\n",
    "    cv_score[i][1] = 0\n",
    "    test_score[i][0] = 0\n",
    "    test_score[i][1] = 0\n",
    "    for t in types:\n",
    "        cv_score[i][0] += cv_score[i][(0, t)]\n",
    "        cv_score[i][1] += cv_score[i][(1, t)]\n",
    "        test_score[i][0] += test_score[i][(0, t)][0]\n",
    "        test_score[i][1] += test_score[i][(1, t)]\n",
    "    cv_score[i][0] /= len(types)\n",
    "    cv_score[i][1] /= len(types)\n",
    "    test_score[i][0] /= len(types)\n",
    "    test_score[i][1] /= len(types)\n",
    "    "
   ]
  },
  {
   "cell_type": "code",
   "execution_count": null,
   "metadata": {
    "colab": {},
    "colab_type": "code",
    "id": "ZUOtpDOOlcXW"
   },
   "outputs": [],
   "source": [
    "save_result(\"cv_score3\", cv_score, types)\n",
    "save_result(\"test_score3\", test_score, types)"
   ]
  },
  {
   "cell_type": "code",
   "execution_count": null,
   "metadata": {
    "colab": {},
    "colab_type": "code",
    "id": "T-qHiUGGlcXd"
   },
   "outputs": [],
   "source": [
    "np.save('train_data', train_data)\n",
    "np.save('test_data', test_data)"
   ]
  },
  {
   "cell_type": "code",
   "execution_count": null,
   "metadata": {
    "colab": {
     "base_uri": "https://localhost:8080/",
     "height": 969
    },
    "colab_type": "code",
    "id": "J7gYywjylcXg",
    "outputId": "1bdeec60-33d5-42b8-bafa-170765d72036"
   },
   "outputs": [],
   "source": []
  },
  {
   "cell_type": "code",
   "execution_count": null,
   "metadata": {
    "colab": {
     "base_uri": "https://localhost:8080/",
     "height": 969
    },
    "colab_type": "code",
    "id": "BuVGO6gMlcXj",
    "outputId": "0fcf31a0-d23c-44ae-8b4a-eb7c2e5fad30"
   },
   "outputs": [],
   "source": []
  },
  {
   "cell_type": "code",
   "execution_count": null,
   "metadata": {
    "colab": {},
    "colab_type": "code",
    "id": "tKWHb3KflcXn"
   },
   "outputs": [],
   "source": []
  },
  {
   "cell_type": "code",
   "execution_count": null,
   "metadata": {
    "colab": {},
    "colab_type": "code",
    "id": "3n1qhoDTlcXt"
   },
   "outputs": [],
   "source": []
  },
  {
   "cell_type": "code",
   "execution_count": null,
   "metadata": {
    "colab": {},
    "colab_type": "code",
    "id": "p2Vaz5Z_lcXw"
   },
   "outputs": [],
   "source": []
  },
  {
   "cell_type": "code",
   "execution_count": null,
   "metadata": {
    "colab": {},
    "colab_type": "code",
    "id": "sbfGhtr9lcXy"
   },
   "outputs": [],
   "source": []
  },
  {
   "cell_type": "code",
   "execution_count": null,
   "metadata": {
    "colab": {},
    "colab_type": "code",
    "id": "Jj3-mD4tlcX3"
   },
   "outputs": [],
   "source": []
  },
  {
   "cell_type": "code",
   "execution_count": null,
   "metadata": {
    "colab": {},
    "colab_type": "code",
    "id": "ah1m6kCllcX_"
   },
   "outputs": [],
   "source": []
  },
  {
   "cell_type": "code",
   "execution_count": null,
   "metadata": {
    "colab": {},
    "colab_type": "code",
    "id": "Fa63-piilcYB"
   },
   "outputs": [],
   "source": []
  },
  {
   "cell_type": "code",
   "execution_count": null,
   "metadata": {
    "colab": {},
    "colab_type": "code",
    "id": "Fd7JVX_elcYE"
   },
   "outputs": [],
   "source": []
  },
  {
   "cell_type": "code",
   "execution_count": null,
   "metadata": {
    "colab": {},
    "colab_type": "code",
    "id": "DfH6t3y8lcYH"
   },
   "outputs": [],
   "source": []
  }
 ],
 "metadata": {
  "accelerator": "GPU",
  "colab": {
   "name": "model_lr_tf-idf.ipynb",
   "provenance": [],
   "version": "0.3.2"
  },
  "kernelspec": {
   "display_name": "Python 3",
   "language": "python",
   "name": "python3"
  },
  "language_info": {
   "codemirror_mode": {
    "name": "ipython",
    "version": 3
   },
   "file_extension": ".py",
   "mimetype": "text/x-python",
   "name": "python",
   "nbconvert_exporter": "python",
   "pygments_lexer": "ipython3",
   "version": "3.6.5"
  }
 },
 "nbformat": 4,
 "nbformat_minor": 1
}
