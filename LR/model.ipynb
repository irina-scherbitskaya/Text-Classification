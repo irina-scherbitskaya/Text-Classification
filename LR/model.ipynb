{
 "cells": [
  {
   "cell_type": "code",
   "execution_count": 1,
   "metadata": {},
   "outputs": [],
   "source": [
    "import numpy as np\n",
    "import pandas as pd\n",
    "import  matplotlib.pyplot as plt\n",
    "from sklearn import metrics \n",
    "from sklearn.metrics import roc_auc_score, precision_score, log_loss, accuracy_score\n",
    "from sklearn.model_selection import GridSearchCV, KFold\n",
    "from sklearn.linear_model import LogisticRegression\n",
    "from sklearn.feature_extraction.text import TfidfVectorizer\n",
    "from scipy.sparse import hstack\n",
    "import time\n",
    "import warnings\n",
    "warnings.filterwarnings('ignore')"
   ]
  },
  {
   "cell_type": "code",
   "execution_count": 2,
   "metadata": {},
   "outputs": [],
   "source": [
    "def model_lr_gcv(X, y, c):\n",
    "    start = time.time()\n",
    "    scorer = {'log_loss': metrics.make_scorer(log_loss, needs_proba = True),\n",
    "              'precision':metrics.make_scorer(precision_score),\n",
    "              'roc_auc':metrics.make_scorer(roc_auc_score)}\n",
    "    kf = KFold(n_splits = 5, shuffle = True)\n",
    "    parameters = {'C': [c], 'penalty': ['l2'], \n",
    "                  'solver': ['sag'], 'max_iter': [500]}\n",
    "    gcv = GridSearchCV(estimator = LogisticRegression(), param_grid = parameters, \n",
    "                       scoring = scorer, refit = 'roc_auc', n_jobs = -1, cv = kf)\n",
    "    gcv.fit(X, y)\n",
    "    end = time.time()\n",
    "    print('Time %d:%d:%f' %(round((end - start)//3600),round((end - start)//60),(end - start) % 60))\n",
    "    return gcv\n",
    "\n",
    "\n",
    "def tfidf(X_train, X_test, max_features):\n",
    "    tfidf_word = TfidfVectorizer(\n",
    "        analyzer='word',\n",
    "        max_df = 0.1, \n",
    "        ngram_range=(1, 2),\n",
    "        max_features=max_features)\n",
    "    tfidf_X = tfidf_word.fit_transform(X['comment_text'])\n",
    "    tfidf_test_X = tfidf_word.transform(test_X['comment_text'])\n",
    "    return tfidf_X, tfidf_test_X, tfidf_word"
   ]
  },
  {
   "cell_type": "code",
   "execution_count": 3,
   "metadata": {},
   "outputs": [],
   "source": [
    "train = pd.read_csv('../datasets/processed_train.csv', index_col='id')\n",
    "test_X = pd.read_csv('../datasets/processed_test.csv', index_col='id')\n",
    "test_y = pd.read_csv('../datasets/test_labels.csv', index_col='id')\n",
    "X = train[['comment_text']]  \n",
    "y = train[['toxic']] "
   ]
  },
  {
   "cell_type": "code",
   "execution_count": 4,
   "metadata": {},
   "outputs": [],
   "source": [
    "C = [10**i for i in range(-1, 4)]"
   ]
  },
  {
   "cell_type": "code",
   "execution_count": 5,
   "metadata": {},
   "outputs": [],
   "source": [
    "max_features = 40000\n",
    "tfidf_X, tfidf_test_X, model_tfidf = tfidf(X, test_X, max_features)"
   ]
  },
  {
   "cell_type": "code",
   "execution_count": 6,
   "metadata": {},
   "outputs": [
    {
     "name": "stdout",
     "output_type": "stream",
     "text": [
      "0.100000:\n",
      "Time 0:0:2.065743\n",
      "1.000000:\n",
      "Time 0:0:2.219966\n",
      "10.000000:\n",
      "Time 0:0:3.509337\n",
      "100.000000:\n",
      "Time 0:0:15.423963\n",
      "1000.000000:\n",
      "Time 0:0:43.647817\n"
     ]
    }
   ],
   "source": [
    "#0 - log_loss, 1 - precision, 2 - roc_auc\n",
    "cv_score = []\n",
    "test_score = []\n",
    "lr = None\n",
    "for i in C:\n",
    "    print('%f:' % i)\n",
    "    lr = model_lr_gcv(tfidf_X, y, i)\n",
    "    pred_y = lr.predict(tfidf_test_X)\n",
    "    pred_proba = lr.predict_proba(tfidf_test_X)\n",
    "    cv_score.append({0:lr.cv_results_['mean_test_log_loss'][0],\n",
    "                     1:lr.cv_results_['mean_test_precision'][0],\n",
    "                     2:lr.cv_results_['mean_test_roc_auc'][0]})\n",
    "    test_score.append({0:log_loss(test_y, pred_proba),\n",
    "                       1:precision_score(test_y, pred_y),\n",
    "                       2:roc_auc_score(test_y, pred_y)})\n",
    "    \n",
    "    "
   ]
  },
  {
   "cell_type": "code",
   "execution_count": 7,
   "metadata": {},
   "outputs": [
    {
     "data": {
      "text/plain": [
       "Text(0.5, 1.0, 'Логистическая функция потерь')"
      ]
     },
     "execution_count": 7,
     "metadata": {},
     "output_type": "execute_result"
    },
    {
     "data": {
      "image/png": "[encoded data removed]",
      "text/plain": [
       "<Figure size 432x288 with 1 Axes>"
      ]
     },
     "metadata": {
      "needs_background": "light"
     },
     "output_type": "display_data"
    }
   ],
   "source": [
    "plt.plot([i for i in range(-1, 4)],[x[0] for x in cv_score],  'go-', \n",
    "         label='line 1', linewidth = 2, color = 'red')\n",
    "plt.plot([i for i in range(-1, 4)], [x[0] for x in test_score],  'go-', \n",
    "         label='line 1', linewidth = 2, color = 'green')\n",
    "plt.ylim(0, 1)\n",
    "plt.ylabel('Оценка качества')\n",
    "plt.xlabel('C=10^x')\n",
    "plt.title('Логистическая функция потерь')"
   ]
  },
  {
   "cell_type": "code",
   "execution_count": 8,
   "metadata": {},
   "outputs": [
    {
     "data": {
      "text/plain": [
       "Text(0.5, 1.0, 'Точность')"
      ]
     },
     "execution_count": 8,
     "metadata": {},
     "output_type": "execute_result"
    },
    {
     "data": {
      "image/png": "[encoded data removed]",
      "text/plain": [
       "<Figure size 432x288 with 1 Axes>"
      ]
     },
     "metadata": {
      "needs_background": "light"
     },
     "output_type": "display_data"
    }
   ],
   "source": [
    "plt.plot([i for i in range(-1, 4)],[x[1] for x in cv_score],  'go-', \n",
    "         label='line 1', linewidth = 2, color = 'red')\n",
    "plt.plot([i for i in range(-1, 4)], [x[1] for x in test_score],  'go-', \n",
    "         label='line 1', linewidth = 2, color = 'green')\n",
    "plt.ylim(0, 1)\n",
    "plt.ylabel('Оценка качества')\n",
    "plt.xlabel('C=10^x')\n",
    "plt.title('Точность')"
   ]
  },
  {
   "cell_type": "code",
   "execution_count": 9,
   "metadata": {},
   "outputs": [
    {
     "data": {
      "text/plain": [
       "Text(0.5, 1.0, 'ROC-AUC')"
      ]
     },
     "execution_count": 9,
     "metadata": {},
     "output_type": "execute_result"
    },
    {
     "data": {
      "image/png": "[encoded data removed]",
      "text/plain": [
       "<Figure size 432x288 with 1 Axes>"
      ]
     },
     "metadata": {
      "needs_background": "light"
     },
     "output_type": "display_data"
    }
   ],
   "source": [
    "plt.plot([i for i in range(-1, 4)],[x[2] for x in cv_score],  'go-', \n",
    "         label='line 1', linewidth = 2, color = 'red')\n",
    "plt.plot([i for i in range(-1, 4)], [x[2] for x in test_score],  'go-', \n",
    "         label='line 1', linewidth = 2, color = 'green')\n",
    "plt.ylim(0, 1)\n",
    "plt.ylabel('Оценка качества')\n",
    "plt.xlabel('C=10^x')\n",
    "plt.title('ROC-AUC')"
   ]
  },
  {
   "cell_type": "code",
   "execution_count": 10,
   "metadata": {},
   "outputs": [],
   "source": [
    "cv_scores = pd.DataFrame( index=C, columns=['ROC-AUC', 'Precision', 'Log loss'])\n",
    "cv_scores['ROC-AUC'] = [round(x[2], 6) for x in cv_score]\n",
    "cv_scores['Log loss'] =  [round(x[0], 6) for x in cv_score]\n",
    "cv_scores['Precision'] =  [round(x[1], 6) for x in cv_score]\n",
    "cv_scores.to_csv('scores_cv.csv')"
   ]
  },
  {
   "cell_type": "code",
   "execution_count": 11,
   "metadata": {},
   "outputs": [],
   "source": [
    "test_scores = pd.DataFrame( index=C, columns=['ROC-AUC', 'Precision', 'Log loss'])\n",
    "test_scores['ROC-AUC'] = [round(x[2], 6) for x in test_score]\n",
    "test_scores['Log loss'] =  [round(x[0], 6) for x in test_score]\n",
    "test_scores['Precision'] =  [round(x[1], 6) for x in test_score]\n",
    "test_scores.to_csv('scores_test.csv')"
   ]
  },
  {
   "cell_type": "code",
   "execution_count": null,
   "metadata": {},
   "outputs": [],
   "source": []
  },
  {
   "cell_type": "code",
   "execution_count": null,
   "metadata": {},
   "outputs": [],
   "source": []
  },
  {
   "cell_type": "code",
   "execution_count": null,
   "metadata": {},
   "outputs": [],
   "source": []
  },
  {
   "cell_type": "code",
   "execution_count": null,
   "metadata": {},
   "outputs": [],
   "source": []
  },
  {
   "cell_type": "code",
   "execution_count": null,
   "metadata": {},
   "outputs": [],
   "source": []
  },
  {
   "cell_type": "code",
   "execution_count": null,
   "metadata": {},
   "outputs": [],
   "source": []
  },
  {
   "cell_type": "code",
   "execution_count": null,
   "metadata": {},
   "outputs": [],
   "source": []
  },
  {
   "cell_type": "code",
   "execution_count": null,
   "metadata": {},
   "outputs": [],
   "source": []
  },
  {
   "cell_type": "code",
   "execution_count": null,
   "metadata": {},
   "outputs": [],
   "source": []
  },
  {
   "cell_type": "code",
   "execution_count": null,
   "metadata": {},
   "outputs": [],
   "source": []
  },
  {
   "cell_type": "code",
   "execution_count": null,
   "metadata": {},
   "outputs": [],
   "source": []
  },
  {
   "cell_type": "code",
   "execution_count": null,
   "metadata": {},
   "outputs": [],
   "source": []
  },
  {
   "cell_type": "code",
   "execution_count": null,
   "metadata": {},
   "outputs": [],
   "source": []
  },
  {
   "cell_type": "code",
   "execution_count": null,
   "metadata": {},
   "outputs": [],
   "source": []
  }
 ],
 "metadata": {
  "kernelspec": {
   "display_name": "Python 3",
   "language": "python",
   "name": "python3"
  },
  "language_info": {
   "codemirror_mode": {
    "name": "ipython",
    "version": 3
   },
   "file_extension": ".py",
   "mimetype": "text/x-python",
   "name": "python",
   "nbconvert_exporter": "python",
   "pygments_lexer": "ipython3",
   "version": "3.6.5"
  }
 },
 "nbformat": 4,
 "nbformat_minor": 2
}
