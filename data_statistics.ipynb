{
 "cells": [
  {
   "cell_type": "code",
   "execution_count": 1,
   "metadata": {},
   "outputs": [],
   "source": [
    "import numpy as np\n",
    "import pandas as pd\n",
    "import matplotlib.pyplot as plt\n",
    "import warnings\n",
    "warnings.filterwarnings('ignore')"
   ]
  },
  {
   "cell_type": "code",
   "execution_count": 2,
   "metadata": {},
   "outputs": [
    {
     "name": "stdout",
     "output_type": "stream",
     "text": [
      "Size of train data: 51669\n",
      "Size of test data: 24037\n"
     ]
    }
   ],
   "source": [
    "train = pd.read_csv('../datasets/train.csv', index_col='id')\n",
    "test_X = pd.read_csv('../datasets/test.csv', index_col='id')\n",
    "X = train[['comment_text']] \n",
    "y = train[['toxic']] \n",
    "\n",
    "print('Size of train data:', len(train))\n",
    "print('Size of test data:', len(test_X))"
   ]
  },
  {
   "cell_type": "code",
   "execution_count": 3,
   "metadata": {},
   "outputs": [
    {
     "data": {
      "text/plain": [
       "0    35444\n",
       "1    16225\n",
       "Name: toxic, dtype: int64"
      ]
     },
     "execution_count": 3,
     "metadata": {},
     "output_type": "execute_result"
    }
   ],
   "source": [
    "train['toxic'].value_counts()"
   ]
  },
  {
   "cell_type": "code",
   "execution_count": 4,
   "metadata": {},
   "outputs": [
    {
     "name": "stdout",
     "output_type": "stream",
     "text": [
      "Average length of train data: 374.2368151115756\n",
      "Average length of test data: 358.4334983567001\n"
     ]
    }
   ],
   "source": [
    "train_len = sorted(train['comment_text'].apply(lambda x: len(x)).tolist())\n",
    "test_len = sorted(test_X['comment_text'].apply(lambda x: len(x)).tolist())\n",
    "length_train = sum(train_len)/len(train)\n",
    "length_test = sum(test_len)/len(test_X)\n",
    "print('Average length of train data:', length_train)\n",
    "print('Average length of test data:', length_test)"
   ]
  },
  {
   "cell_type": "code",
   "execution_count": 5,
   "metadata": {},
   "outputs": [
    {
     "data": {
      "text/plain": [
       "[<matplotlib.lines.Line2D at 0x11921a048>]"
      ]
     },
     "execution_count": 5,
     "metadata": {},
     "output_type": "execute_result"
    },
    {
     "data": {
      "image/png": "[encoded data removed]",
      "text/plain": [
       "<Figure size 432x288 with 1 Axes>"
      ]
     },
     "metadata": {
      "needs_background": "light"
     },
     "output_type": "display_data"
    }
   ],
   "source": [
    "plt.ylabel('length')\n",
    "plt.xlabel('index')\n",
    "plt.plot(train_len, label = 'length of train')\n",
    "plt.plot(test_len, label = 'length of test')"
   ]
  },
  {
   "cell_type": "code",
   "execution_count": null,
   "metadata": {},
   "outputs": [],
   "source": []
  }
 ],
 "metadata": {
  "kernelspec": {
   "display_name": "Python 3",
   "language": "python",
   "name": "python3"
  },
  "language_info": {
   "codemirror_mode": {
    "name": "ipython",
    "version": 3
   },
   "file_extension": ".py",
   "mimetype": "text/x-python",
   "name": "python",
   "nbconvert_exporter": "python",
   "pygments_lexer": "ipython3",
   "version": "3.6.5"
  }
 },
 "nbformat": 4,
 "nbformat_minor": 2
}
