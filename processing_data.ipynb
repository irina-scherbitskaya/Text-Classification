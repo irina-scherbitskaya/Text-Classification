{
 "cells": [
  {
   "cell_type": "code",
   "execution_count": 1,
   "metadata": {},
   "outputs": [],
   "source": [
    "import numpy as np\n",
    "import pandas as pd\n",
    "from nltk.stem import SnowballStemmer\n",
    "from nltk.stem.wordnet import WordNetLemmatizer\n",
    "import time\n",
    "import string\n",
    "import warnings\n",
    "warnings.filterwarnings('ignore')"
   ]
  },
  {
   "cell_type": "code",
   "execution_count": 2,
   "metadata": {},
   "outputs": [],
   "source": [
    "def get_stop_words():\n",
    "    f = open('../datasets/stopwords.txt', 'r')\n",
    "    stop_words = set([line.strip() for line in f])\n",
    "    f.close()\n",
    "    return stop_words\n",
    "\n",
    "def stemming(df):\n",
    "    time1 = time.time()\n",
    "    stemmer = SnowballStemmer('english')\n",
    "    df = df.apply(lambda x: ' '.join([stemmer.stem(item) for item in x.split()]))\n",
    "    time2 = time.time()\n",
    "    print('Stemming, time:', time2 - time1)\n",
    "    return df\n",
    "\n",
    "def normalization(df):\n",
    "    time1 = time.time()\n",
    "    df = df.apply(lambda x: x.lower())\n",
    "    re = list()\n",
    "    re.append('https?:\\/\\/(www\\.)?[-a-zA-Z0-9@:%._\\+~#=]{2,256}\\.[a-z]{2,6}\\b([-a-zA-Z0-9@:%_\\+.~#?&//=]*)')\n",
    "    re.append('[^a-zA-Z\\']')\n",
    "\n",
    "    for r in re:\n",
    "        df = df.replace(r, ' ', regex = True)\n",
    "\n",
    "    for ch in list(string.ascii_lowercase):\n",
    "        r = '[%s]{3,}' % ch\n",
    "        df = df.replace(r, ch, regex = True)\n",
    "        \n",
    "    stop_words = get_stop_words()\n",
    "    \n",
    "    df = df.apply(lambda x: ' '.join([item for item in x.split() if (item not in stop_words) \n",
    "                                      and (len(item) > 2) and (len(item) < 20)]))\n",
    "  \n",
    "    time2 = time.time()\n",
    "    print('Cleaned data, time:', time2 - time1)\n",
    "    df = stemming(df)\n",
    "    time3 = time.time()\n",
    "    \n",
    "    for ch in list(string.ascii_lowercase):\n",
    "        r = '[%s]{2,}' % ch\n",
    "        df = df.replace(r, ch, regex = True)\n",
    "        \n",
    "    \n",
    "    df = df.apply(lambda x: ' '.join([item for item in x.split() if (item not in stop_words) \n",
    "                                      and (len(item) > 2) and (len(item) < 20)]))\n",
    "    time4 = time.time()\n",
    "    \n",
    "    \n",
    "    print('Cleaned data after stemming, time:, time:', time4 - time3)\n",
    "    return df"
   ]
  },
  {
   "cell_type": "code",
   "execution_count": 3,
   "metadata": {},
   "outputs": [
    {
     "data": {
      "text/html": [
       "<div>\n",
       "<style scoped>\n",
       "    .dataframe tbody tr th:only-of-type {\n",
       "        vertical-align: middle;\n",
       "    }\n",
       "\n",
       "    .dataframe tbody tr th {\n",
       "        vertical-align: top;\n",
       "    }\n",
       "\n",
       "    .dataframe thead th {\n",
       "        text-align: right;\n",
       "    }\n",
       "</style>\n",
       "<table border=\"1\" class=\"dataframe\">\n",
       "  <thead>\n",
       "    <tr style=\"text-align: right;\">\n",
       "      <th></th>\n",
       "      <th>comment_text</th>\n",
       "      <th>toxic</th>\n",
       "    </tr>\n",
       "    <tr>\n",
       "      <th>id</th>\n",
       "      <th></th>\n",
       "      <th></th>\n",
       "    </tr>\n",
       "  </thead>\n",
       "  <tbody>\n",
       "    <tr>\n",
       "      <th>c51ed32bc0300a61</th>\n",
       "      <td>October 2008 \\n You currently appear to be eng...</td>\n",
       "      <td>0</td>\n",
       "    </tr>\n",
       "    <tr>\n",
       "      <th>7e1cb02f190eeccf</th>\n",
       "      <td>Jean-Louis Heinrich \\n\\nYou are editing contra...</td>\n",
       "      <td>0</td>\n",
       "    </tr>\n",
       "    <tr>\n",
       "      <th>c38f023ad1df8577</th>\n",
       "      <td>Putting 'citation required' on just about ever...</td>\n",
       "      <td>0</td>\n",
       "    </tr>\n",
       "    <tr>\n",
       "      <th>dfb8d36b145916eb</th>\n",
       "      <td>My Horse \\n\\nmy horse is probily a mix of ever...</td>\n",
       "      <td>0</td>\n",
       "    </tr>\n",
       "    <tr>\n",
       "      <th>b1ca628a1aa1c94f</th>\n",
       "      <td>\"\\n\\n Hiatus? \\n\\nEminem is finally done with ...</td>\n",
       "      <td>0</td>\n",
       "    </tr>\n",
       "  </tbody>\n",
       "</table>\n",
       "</div>"
      ],
      "text/plain": [
       "                                                       comment_text  toxic\n",
       "id                                                                        \n",
       "c51ed32bc0300a61  October 2008 \\n You currently appear to be eng...      0\n",
       "7e1cb02f190eeccf  Jean-Louis Heinrich \\n\\nYou are editing contra...      0\n",
       "c38f023ad1df8577  Putting 'citation required' on just about ever...      0\n",
       "dfb8d36b145916eb  My Horse \\n\\nmy horse is probily a mix of ever...      0\n",
       "b1ca628a1aa1c94f  \"\\n\\n Hiatus? \\n\\nEminem is finally done with ...      0"
      ]
     },
     "execution_count": 3,
     "metadata": {},
     "output_type": "execute_result"
    }
   ],
   "source": [
    "train = pd.read_csv('../datasets/train.csv', index_col='id')\n",
    "test_X = pd.read_csv('../datasets/test.csv', index_col='id')\n",
    "test_y = pd.read_csv('../datasets/test_labels.csv', index_col='id')\n",
    "train.head()"
   ]
  },
  {
   "cell_type": "code",
   "execution_count": 4,
   "metadata": {},
   "outputs": [
    {
     "name": "stdout",
     "output_type": "stream",
     "text": [
      "Train dataset:\n",
      "Cleaned data, time: 8.522449970245361\n",
      "Lemmating, time: 7.326029062271118\n",
      "Cleaned data after stemming, time:, time: 4.119665861129761\n",
      "Test dataset:\n",
      "Cleaned data, time: 3.8118820190429688\n",
      "Lemmating, time: 2.4599390029907227\n",
      "Cleaned data after stemming, time:, time: 1.8665552139282227\n"
     ]
    }
   ],
   "source": [
    "X = train[['comment_text']] \n",
    "y = train[['toxic']] \n",
    "print('Train dataset:')\n",
    "X['comment_text'] = normalization(X['comment_text'])\n",
    "print('Test dataset:')\n",
    "test_X['comment_text'] = normalization(test_X['comment_text'])\n",
    "X['comment_text'] = X['comment_text'].apply(lambda x: 'no comment' if x == '' else x)\n",
    "test_X['comment_text'] = test_X['comment_text'].apply(lambda x: 'no comment' if x == '' else x)"
   ]
  },
  {
   "cell_type": "code",
   "execution_count": 5,
   "metadata": {},
   "outputs": [],
   "source": [
    "train['comment_text'] = X['comment_text']\n",
    "train.to_csv('../datasets/processed_train.csv')\n",
    "test_X.to_csv('../datasets/processed_test.csv')"
   ]
  },
  {
   "cell_type": "code",
   "execution_count": null,
   "metadata": {},
   "outputs": [],
   "source": []
  },
  {
   "cell_type": "code",
   "execution_count": null,
   "metadata": {},
   "outputs": [],
   "source": []
  }
 ],
 "metadata": {
  "kernelspec": {
   "display_name": "Python 3",
   "language": "python",
   "name": "python3"
  },
  "language_info": {
   "codemirror_mode": {
    "name": "ipython",
    "version": 3
   },
   "file_extension": ".py",
   "mimetype": "text/x-python",
   "name": "python",
   "nbconvert_exporter": "python",
   "pygments_lexer": "ipython3",
   "version": "3.6.5"
  }
 },
 "nbformat": 4,
 "nbformat_minor": 2
}
