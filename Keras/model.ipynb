{
 "cells": [
  {
   "cell_type": "code",
   "execution_count": 1,
   "metadata": {},
   "outputs": [
    {
     "name": "stderr",
     "output_type": "stream",
     "text": [
      "Using TensorFlow backend.\n"
     ]
    }
   ],
   "source": [
    "from sklearn.feature_extraction.text import TfidfVectorizer\n",
    "from sklearn.preprocessing import LabelBinarizer\n",
    "from keras.preprocessing.sequence import pad_sequences\n",
    "from keras.models import Sequential\n",
    "from keras import optimizers\n",
    "from sklearn.metrics import roc_auc_score, precision_score, log_loss, accuracy_score\n",
    "from keras.layers import  Dense, GRU, Dropout, Activation, LSTM, Flatten, Embedding\n",
    "import keras.utils\n",
    "import keras.backend as K\n",
    "import keras_metrics as km\n",
    "import pandas as pd"
   ]
  },
  {
   "cell_type": "code",
   "execution_count": 2,
   "metadata": {},
   "outputs": [],
   "source": [
    "def model_rnn(num_words, length):\n",
    "    model = Sequential()\n",
    "    model.add(Embedding(num_words + 1, output_dim = 32, input_length = length))\n",
    "    model.add(LSTM(units = 32,return_sequences=True,recurrent_dropout=0.1 )) \n",
    "    model.add(Flatten())\n",
    "    model.add(Dropout(0.3))\n",
    "    model.add(Dense(1, activation='sigmoid'))\n",
    "    adam_optimizer = optimizers.Adam(lr=1e-3, decay=1e-7)\n",
    "    model.compile(loss='binary_crossentropy', optimizer=adam_optimizer,\n",
    "              metrics=[km.precision()])\n",
    "\n",
    "    print(model.summary())\n",
    "    return model"
   ]
  },
  {
   "cell_type": "code",
   "execution_count": 3,
   "metadata": {},
   "outputs": [],
   "source": [
    "train = pd.read_csv('../datasets/processed_train.csv', index_col='id')\n",
    "test_X = pd.read_csv('../datasets/processed_test.csv', index_col='id')\n",
    "test_y = pd.read_csv('../datasets/test_labels.csv', index_col='id') \n",
    "X = train[['comment_text']]\n",
    "y = train[['toxic']]"
   ]
  },
  {
   "cell_type": "code",
   "execution_count": 4,
   "metadata": {},
   "outputs": [],
   "source": [
    "num_words = 40000\n",
    "max_len = 0\n",
    "tfidf_word = TfidfVectorizer(  \n",
    "    analyzer='word',\n",
    "    max_df = 0.1, \n",
    "    ngram_range=(1, 2),\n",
    "    max_features=num_words)\n",
    "tfidf_word.fit(X['comment_text'])\n",
    "\n",
    "dict_words = tfidf_word.vocabulary_"
   ]
  },
  {
   "cell_type": "code",
   "execution_count": 5,
   "metadata": {},
   "outputs": [],
   "source": [
    "train_features = pd.np.array(X['comment_text'].apply(lambda x: [dict_words[item] for item in x.split() \n",
    "                                                        if item in dict_words.keys()]))\n",
    "\n",
    "test_features = pd.np.array(test_X['comment_text'].apply(lambda x: [dict_words[item] for item in x.split() \n",
    "                                                        if item in dict_words.keys()]))\n",
    "\n",
    "for arr in train_features:\n",
    "    max_len = max(max_len, len(arr))\n",
    "    \n",
    "train_features = pad_sequences(train_features, maxlen=max_len, padding='post')\n",
    "    \n",
    "test_features = pad_sequences(test_features, maxlen=max_len, padding='post')\n"
   ]
  },
  {
   "cell_type": "code",
   "execution_count": 6,
   "metadata": {},
   "outputs": [
    {
     "name": "stdout",
     "output_type": "stream",
     "text": [
      "_________________________________________________________________\n",
      "Layer (type)                 Output Shape              Param #   \n",
      "=================================================================\n",
      "embedding_1 (Embedding)      (None, 1250, 32)          1280032   \n",
      "_________________________________________________________________\n",
      "lstm_1 (LSTM)                (None, 1250, 32)          8320      \n",
      "_________________________________________________________________\n",
      "flatten_1 (Flatten)          (None, 40000)             0         \n",
      "_________________________________________________________________\n",
      "dropout_1 (Dropout)          (None, 40000)             0         \n",
      "_________________________________________________________________\n",
      "dense_1 (Dense)              (None, 1)                 40001     \n",
      "=================================================================\n",
      "Total params: 1,328,353\n",
      "Trainable params: 1,328,353\n",
      "Non-trainable params: 0\n",
      "_________________________________________________________________\n",
      "None\n"
     ]
    }
   ],
   "source": [
    "model = model_rnn(num_words, max_len)"
   ]
  },
  {
   "cell_type": "code",
   "execution_count": 7,
   "metadata": {},
   "outputs": [
    {
     "name": "stdout",
     "output_type": "stream",
     "text": [
      "Train on 41335 samples, validate on 10334 samples\n",
      "Epoch 1/3\n",
      "41335/41335 [==============================] - 324s 8ms/step - loss: 0.4348 - precision: 0.8419 - val_loss: 0.2408 - val_precision: 0.9266\n",
      "Epoch 2/3\n",
      "41335/41335 [==============================] - 311s 8ms/step - loss: 0.1900 - precision: 0.9191 - val_loss: 0.2243 - val_precision: 0.9231\n",
      "Epoch 3/3\n",
      "41335/41335 [==============================] - 302s 7ms/step - loss: 0.1498 - precision: 0.9363 - val_loss: 0.2310 - val_precision: 0.9054\n"
     ]
    },
    {
     "data": {
      "text/plain": [
       "<keras.callbacks.History at 0x12760a8d0>"
      ]
     },
     "execution_count": 7,
     "metadata": {},
     "output_type": "execute_result"
    }
   ],
   "source": [
    "epochs = 3\n",
    "model.fit(train_features , y, epochs = epochs, verbose=1, validation_split=0.2, batch_size=256)"
   ]
  },
  {
   "cell_type": "code",
   "execution_count": 8,
   "metadata": {},
   "outputs": [],
   "source": [
    "pred_y = model.predict_classes(test_features, batch_size= 256)\n",
    "pred_proba = model.predict(test_features, batch_size= 256)"
   ]
  },
  {
   "cell_type": "code",
   "execution_count": 9,
   "metadata": {},
   "outputs": [
    {
     "name": "stdout",
     "output_type": "stream",
     "text": [
      "Test:\n",
      "roc_auc: 0.8867789044107055\n",
      "precision 0.7313019390581718\n",
      "log_loss: 0.35943097409067776\n"
     ]
    }
   ],
   "source": [
    "print('Test:')\n",
    "print('roc_auc:', roc_auc_score(test_y, pred_y))\n",
    "print('precision', precision_score(test_y, pred_y))\n",
    "print('log_loss:',log_loss(test_y, pred_proba, eps = 1e-7))"
   ]
  },
  {
   "cell_type": "code",
   "execution_count": 10,
   "metadata": {},
   "outputs": [
    {
     "name": "stdout",
     "output_type": "stream",
     "text": [
      "Train on 41335 samples, validate on 10334 samples\n",
      "Epoch 1/2\n",
      "41335/41335 [==============================] - 333s 8ms/step - loss: 0.1279 - precision: 0.9446 - val_loss: 0.2506 - val_precision: 0.8878\n",
      "Epoch 2/2\n",
      "41335/41335 [==============================] - 311s 8ms/step - loss: 0.1118 - precision: 0.9481 - val_loss: 0.2732 - val_precision: 0.8680\n"
     ]
    },
    {
     "data": {
      "text/plain": [
       "<keras.callbacks.History at 0x128f8a438>"
      ]
     },
     "execution_count": 10,
     "metadata": {},
     "output_type": "execute_result"
    }
   ],
   "source": [
    "epochs = 2\n",
    "model.fit(train_features , y, epochs = epochs, verbose=1, validation_split=0.2, batch_size=256)"
   ]
  },
  {
   "cell_type": "code",
   "execution_count": 11,
   "metadata": {},
   "outputs": [],
   "source": [
    "pred_y = model.predict_classes(test_features, batch_size= 256)\n",
    "pred_proba = model.predict(test_features, batch_size= 256)"
   ]
  },
  {
   "cell_type": "code",
   "execution_count": 12,
   "metadata": {},
   "outputs": [
    {
     "name": "stdout",
     "output_type": "stream",
     "text": [
      "Test:\n",
      "roc_auc: 0.8807071158092029\n",
      "precision 0.6951249690670626\n",
      "log_loss: 0.46963368444337644\n"
     ]
    }
   ],
   "source": [
    "print('Test:')\n",
    "print('roc_auc:', roc_auc_score(test_y, pred_y))\n",
    "print('precision', precision_score(test_y, pred_y))\n",
    "print('log_loss:',log_loss(test_y, pred_proba, eps = 1e-7))"
   ]
  },
  {
   "cell_type": "code",
   "execution_count": null,
   "metadata": {},
   "outputs": [],
   "source": []
  }
 ],
 "metadata": {
  "kernelspec": {
   "display_name": "Python 3",
   "language": "python",
   "name": "python3"
  },
  "language_info": {
   "codemirror_mode": {
    "name": "ipython",
    "version": 3
   },
   "file_extension": ".py",
   "mimetype": "text/x-python",
   "name": "python",
   "nbconvert_exporter": "python",
   "pygments_lexer": "ipython3",
   "version": "3.6.5"
  }
 },
 "nbformat": 4,
 "nbformat_minor": 2
}
