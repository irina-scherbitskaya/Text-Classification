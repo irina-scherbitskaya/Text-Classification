{
 "cells": [
  {
   "cell_type": "code",
   "execution_count": null,
   "metadata": {
    "colab": {
     "base_uri": "https://localhost:8080/",
     "height": 34
    },
    "colab_type": "code",
    "id": "hxgCJqmyVE-H",
    "outputId": "046c601a-a344-449c-dcea-f2dffe7814cf"
   },
   "outputs": [],
   "source": [
    "from sklearn.feature_extraction.text import TfidfVectorizer\n",
    "from sklearn.preprocessing import LabelBinarizer\n",
    "from keras.preprocessing.sequence import pad_sequences\n",
    "from keras.models import Model\n",
    "from keras.callbacks import ModelCheckpoint\n",
    "from keras import optimizers\n",
    "from sklearn.metrics import roc_auc_score, precision_score, log_loss, accuracy_score\n",
    "from keras.layers import Input, Dropout, Dense, LSTM,  Embedding, CuDNNGRU, Flatten, \\\n",
    "GlobalAveragePooling1D, Bidirectional, GlobalMaxPooling1D, SpatialDropout1D, \\\n",
    "MaxPooling1D, AveragePooling1D\n",
    "import keras.utils\n",
    "from keras.layers.merge import concatenate\n",
    "import keras.backend as K\n",
    "from keras.initializers import Constant \n",
    "import pandas as pd\n",
    "import numpy as np\n",
    "from gensim.models import Word2Vec, KeyedVectors\n",
    "import warnings\n",
    "warnings.filterwarnings('ignore')\n",
    "w2v = KeyedVectors.load(\"train.model\")"
   ]
  },
  {
   "cell_type": "code",
   "execution_count": null,
   "metadata": {
    "colab": {},
    "colab_type": "code",
    "id": "eAUlARW_VE-J"
   },
   "outputs": [],
   "source": [
    "def model_rnn(num_words, emb_dim, emb_matrix, max_len):\n",
    "    rec_units = 128\n",
    "    input_layer = Input(shape=(max_len,))\n",
    "    emb_layer = Embedding(num_words + 1, emb_dim, weights=[emb_matrix],\n",
    "                          input_length=max_len, trainable=False)(input_layer)\n",
    "    layer = SpatialDropout1D(0.2)(emb_layer)\n",
    "    layer = Bidirectional(CuDNNGRU(rec_units, return_sequences=True))(layer)\n",
    "    layer = SpatialDropout1D(0.2)(layer)\n",
    "    layer = Bidirectional(CuDNNGRU(rec_units, return_sequences=True))(layer)\n",
    "    maxpool = GlobalMaxPooling1D()(layer)\n",
    "    average = GlobalAveragePooling1D()(layer)\n",
    "    concat = concatenate([maxpool, average])\n",
    "    layer = Dropout(0.5)(concat)\n",
    "    layer = Dense(rec_units // 2, activation=\"relu\")(layer)\n",
    "    output_layer = Dense(6, activation=\"sigmoid\")(layer)\n",
    "    model = Model(inputs=input_layer, outputs=output_layer)\n",
    "    model.compile(loss='binary_crossentropy',\n",
    "                  optimizer='adam',\n",
    "                  metrics=['accuracy'])\n",
    "\n",
    "    print(model.summary())\n",
    "    return model  "
   ]
  },
  {
   "cell_type": "code",
   "execution_count": null,
   "metadata": {
    "colab": {},
    "colab_type": "code",
    "id": "dRDJuRDMVE-L"
   },
   "outputs": [],
   "source": [
    "train = pd.read_csv('processed_train.csv', index_col='id')\n",
    "test_X = pd.read_csv('processed_test.csv', index_col='id')\n",
    "test_y = pd.read_csv('test_labels.csv', index_col='id')\n",
    "types = ['toxic','severe_toxic','obscene','threat','insult','identity_hate']\n",
    "y = train[types]\n",
    "test_y = test_y[types]\n",
    "X = train[['comment_text']]"
   ]
  },
  {
   "cell_type": "code",
   "execution_count": null,
   "metadata": {
    "colab": {},
    "colab_type": "code",
    "id": "WG7TIhetVE-N"
   },
   "outputs": [],
   "source": [
    "voc = {}\n",
    "i = 1\n",
    "emb_matrix = np.zeros((w2v.vectors.shape[0] + 1, w2v.vectors.shape[1]))\n",
    "for word in w2v.index2word:\n",
    "    voc[word] = i\n",
    "    emb_matrix[i] = w2v[word]\n",
    "    i+=1"
   ]
  },
  {
   "cell_type": "code",
   "execution_count": null,
   "metadata": {
    "colab": {},
    "colab_type": "code",
    "id": "0M4V_YKyVE-P"
   },
   "outputs": [],
   "source": [
    "max_len = 0\n",
    "\n",
    "train_features = pd.np.array(X['comment_text'].apply(lambda x: [voc[item] for item in x.split() \n",
    "                                                        if item in voc.keys()]))\n",
    "\n",
    "test_features = pd.np.array(test_X['comment_text'].apply(lambda x: [voc[item] for item in x.split() \n",
    "                                                        if item in voc.keys()]))\n",
    "\n",
    "for arr in train_features:\n",
    "    max_len = max(max_len, len(arr))\n",
    "    \n",
    "train_features = pad_sequences(train_features, maxlen=max_len, padding='post')\n",
    "    \n",
    "test_features = pad_sequences(test_features, maxlen=max_len, padding='post')"
   ]
  },
  {
   "cell_type": "code",
   "execution_count": null,
   "metadata": {
    "colab": {
     "base_uri": "https://localhost:8080/",
     "height": 700
    },
    "colab_type": "code",
    "id": "ASRFUyseVE-R",
    "outputId": "53132562-4b1d-4b43-cc87-b3727f7eee26"
   },
   "outputs": [],
   "source": [
    "model = model_rnn(w2v.vectors.shape[0], w2v.vectors.shape[1], emb_matrix, max_len)"
   ]
  },
  {
   "cell_type": "markdown",
   "metadata": {
    "colab_type": "text",
    "id": "cMIhR9k8sRiV"
   },
   "source": []
  },
  {
   "cell_type": "code",
   "execution_count": null,
   "metadata": {
    "colab": {
     "base_uri": "https://localhost:8080/",
     "height": 459
    },
    "colab_type": "code",
    "id": "y-jYstWYVE-U",
    "outputId": "bb89eca1-c49d-47bb-b046-b108e3e89e78"
   },
   "outputs": [],
   "source": [
    "сheckpoint = ModelCheckpoint(\"save/weights_gru.{epoch:02d}-{val_loss:.2f}.hdf5\")\n",
    "epochs = 12\n",
    "model.fit(train_features, pd.np.array(y), epochs = epochs, verbose=1, validation_split=0.2, batch_size=256, callbacks=[сheckpoint])"
   ]
  },
  {
   "cell_type": "code",
   "execution_count": null,
   "metadata": {
    "colab": {
     "base_uri": "https://localhost:8080/",
     "height": 51
    },
    "colab_type": "code",
    "id": "p-ThGRB_VE-W",
    "outputId": "d3d942f1-128f-4e7f-f06d-bd41f8403eaf"
   },
   "outputs": [],
   "source": [
    "model.load_weights(\"save/weights_gru.05-0.05.hdf5\")\n",
    "print('Test')\n",
    "pred_proba = model.predict(test_features, batch_size= 256)\n",
    "print('Train')\n",
    "pred_proba_train = model.predict(train_features, batch_size= 256)\n"
   ]
  },
  {
   "cell_type": "code",
   "execution_count": null,
   "metadata": {
    "colab": {
     "base_uri": "https://localhost:8080/",
     "height": 374
    },
    "colab_type": "code",
    "id": "YFzZh6GOVE-Y",
    "outputId": "e96ce854-0cca-48fc-e469-efadd9cd1446"
   },
   "outputs": [],
   "source": [
    "print('Test:')\n",
    "score_ra = 0\n",
    "score_ll = 0\n",
    "for i in range(0, len(types)):\n",
    "    print(types[i], ':')\n",
    "    pred = [x[i] for x in pred_proba]\n",
    "    ra = roc_auc_score(test_y[types[i]], pred)\n",
    "    ll = log_loss(test_y[types[i]], pred, eps = 1e-7)\n",
    "    score_ra += ra\n",
    "    score_ll += ll\n",
    "    print('roc_auc:', ra)\n",
    "    print('log_loss:',ll)\n",
    "print(\"Score roc_auc:\", score_ra/len(types))\n",
    "print(\"Score log_loss:\", score_ll/len(types))"
   ]
  },
  {
   "cell_type": "code",
   "execution_count": null,
   "metadata": {
    "colab": {
     "base_uri": "https://localhost:8080/",
     "height": 374
    },
    "colab_type": "code",
    "id": "Be53WTKvVE-a",
    "outputId": "7d05be80-4078-47c6-87c1-c7642d12edb9"
   },
   "outputs": [],
   "source": [
    "print('Train:')\n",
    "score_ra = 0\n",
    "score_ll = 0\n",
    "for i in range(0, len(types)):\n",
    "    print(types[i], ':')\n",
    "    pred = [x[i] for x in pred_proba_train]\n",
    "    ra = roc_auc_score(y[types[i]], pred)\n",
    "    ll = log_loss(y[types[i]], pred, eps = 1e-7)\n",
    "    score_ra += ra\n",
    "    score_ll += ll\n",
    "    print('roc_auc:', ra)\n",
    "    print('log_loss:',ll)\n",
    "print(\"Score roc_auc:\", score_ra/len(types))\n",
    "print(\"Score log_loss:\", score_ll/len(types))"
   ]
  },
  {
   "cell_type": "code",
   "execution_count": null,
   "metadata": {
    "colab": {
     "base_uri": "https://localhost:8080/",
     "height": 51
    },
    "colab_type": "code",
    "id": "eiHbGWU8VE-f",
    "outputId": "8eee98d0-45af-442a-b954-449b59f5def7"
   },
   "outputs": [],
   "source": [
    "model.load_weights(\"save/weights_gru.12-0.05.hdf5\")\n",
    "print('Test')\n",
    "pred_proba = model.predict(test_features, batch_size= 256)\n",
    "print('Train')\n",
    "pred_proba_train = model.predict(train_features, batch_size= 256)\n"
   ]
  },
  {
   "cell_type": "code",
   "execution_count": null,
   "metadata": {
    "colab": {
     "base_uri": "https://localhost:8080/",
     "height": 374
    },
    "colab_type": "code",
    "id": "IOatb2SoVE-m",
    "outputId": "8d98f385-f49e-4913-bfd5-56814d9ec4d1"
   },
   "outputs": [],
   "source": [
    "print('Test:')\n",
    "score_ra = 0\n",
    "score_ll = 0\n",
    "for i in range(0, len(types)):\n",
    "    print(types[i], ':')\n",
    "    pred = [x[i] for x in pred_proba]\n",
    "    ra = roc_auc_score(test_y[types[i]], pred)\n",
    "    ll = log_loss(test_y[types[i]], pred, eps = 1e-7)\n",
    "    score_ra += ra\n",
    "    score_ll += ll\n",
    "    print('roc_auc:', ra)\n",
    "    print('log_loss:',ll)\n",
    "print(\"Score roc_auc:\", score_ra/len(types))\n",
    "print(\"Score log_loss:\", score_ll/len(types))"
   ]
  },
  {
   "cell_type": "code",
   "execution_count": null,
   "metadata": {
    "colab": {
     "base_uri": "https://localhost:8080/",
     "height": 374
    },
    "colab_type": "code",
    "id": "lXWnAw7iVE-g",
    "outputId": "269bc71b-8e96-4faf-8e5d-6e719c32bca6"
   },
   "outputs": [],
   "source": [
    "print('Train:')\n",
    "score_ra = 0\n",
    "score_ll = 0\n",
    "for i in range(0, len(types)):\n",
    "    print(types[i], ':')\n",
    "    pred = [x[i] for x in pred_proba_train]\n",
    "    ra = roc_auc_score(y[types[i]], pred)\n",
    "    ll = log_loss(y[types[i]], pred, eps = 1e-7)\n",
    "    score_ra += ra\n",
    "    score_ll += ll\n",
    "    print('roc_auc:', ra)\n",
    "    print('log_loss:',ll)\n",
    "print(\"Score roc_auc:\", score_ra/len(types))\n",
    "print(\"Score log_loss:\", score_ll/len(types))"
   ]
  },
  {
   "cell_type": "code",
   "execution_count": null,
   "metadata": {
    "colab": {},
    "colab_type": "code",
    "id": "CSVhpmipVE-i"
   },
   "outputs": [],
   "source": []
  },
  {
   "cell_type": "code",
   "execution_count": null,
   "metadata": {
    "colab": {},
    "colab_type": "code",
    "id": "Fu5Ls1faVE-s"
   },
   "outputs": [],
   "source": []
  },
  {
   "cell_type": "code",
   "execution_count": null,
   "metadata": {
    "colab": {},
    "colab_type": "code",
    "id": "Se79xt7FVE-k"
   },
   "outputs": [],
   "source": []
  },
  {
   "cell_type": "code",
   "execution_count": null,
   "metadata": {
    "colab": {},
    "colab_type": "code",
    "id": "ecmSIsFL0u0S"
   },
   "outputs": [],
   "source": []
  },
  {
   "cell_type": "code",
   "execution_count": null,
   "metadata": {
    "colab": {},
    "colab_type": "code",
    "id": "mjACswu5VE-p"
   },
   "outputs": [],
   "source": []
  },
  {
   "cell_type": "code",
   "execution_count": null,
   "metadata": {
    "colab": {},
    "colab_type": "code",
    "id": "xbdVQs4m1S7Z"
   },
   "outputs": [],
   "source": []
  },
  {
   "cell_type": "code",
   "execution_count": null,
   "metadata": {
    "colab": {},
    "colab_type": "code",
    "id": "IbxaJ4ve1fnX"
   },
   "outputs": [],
   "source": []
  },
  {
   "cell_type": "code",
   "execution_count": null,
   "metadata": {
    "colab": {},
    "colab_type": "code",
    "id": "h5ntWXTz56Wg"
   },
   "outputs": [],
   "source": []
  }
 ],
 "metadata": {
  "accelerator": "GPU",
  "colab": {
   "collapsed_sections": [],
   "name": "model_keras.ipynb",
   "provenance": [],
   "version": "0.3.2"
  },
  "kernelspec": {
   "display_name": "Python 3",
   "language": "python",
   "name": "python3"
  },
  "language_info": {
   "codemirror_mode": {
    "name": "ipython",
    "version": 3
   },
   "file_extension": ".py",
   "mimetype": "text/x-python",
   "name": "python",
   "nbconvert_exporter": "python",
   "pygments_lexer": "ipython3",
   "version": "3.6.5"
  }
 },
 "nbformat": 4,
 "nbformat_minor": 1
}
