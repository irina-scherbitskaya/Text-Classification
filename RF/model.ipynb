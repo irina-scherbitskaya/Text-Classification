{
 "cells": [
  {
   "cell_type": "code",
   "execution_count": 1,
   "metadata": {},
   "outputs": [],
   "source": [
    "import numpy as np\n",
    "import pandas as pd\n",
    "import  matplotlib.pyplot as plt\n",
    "from sklearn import metrics \n",
    "from sklearn.metrics import roc_auc_score, precision_score, log_loss, accuracy_score\n",
    "from sklearn.model_selection import GridSearchCV, KFold\n",
    "from sklearn.ensemble import RandomForestClassifier\n",
    "from sklearn.feature_extraction.text import TfidfVectorizer\n",
    "from scipy.sparse import hstack\n",
    "import time\n",
    "import warnings\n",
    "warnings.filterwarnings('ignore')"
   ]
  },
  {
   "cell_type": "code",
   "execution_count": 2,
   "metadata": {},
   "outputs": [],
   "source": [
    "def model_rf_gcv(X, y, estimators):\n",
    "    start = time.time()\n",
    "    scorer = {'log_loss': metrics.make_scorer(log_loss, needs_proba = True),\n",
    "              'precision':metrics.make_scorer(precision_score),\n",
    "              'roc_auc':metrics.make_scorer(roc_auc_score)}\n",
    "    kf = KFold(n_splits = 5, shuffle = True)\n",
    "    parameters = {'n_estimators': [estimators], 'max_depth': [60], 'min_samples_leaf': [20]}\n",
    "    gcv = GridSearchCV(estimator = RandomForestClassifier(), param_grid = parameters, \n",
    "                       scoring = scorer, refit = 'roc_auc', n_jobs = -1, cv = kf)\n",
    "    gcv.fit(X, y)\n",
    "    end = time.time()\n",
    "    print('Time %d:%d:%f' %(round((end - start)//3600),round((end - start)//60),(end - start) % 60))\n",
    "    return gcv\n",
    "\n",
    "\n",
    "def tfidf(X_train, X_test, max_features):\n",
    "    tfidf_word = TfidfVectorizer(\n",
    "        analyzer='word',\n",
    "        max_df = 0.1, \n",
    "        ngram_range=(1, 2),\n",
    "        max_features=max_features)\n",
    "    tfidf_X = tfidf_word.fit_transform(X['comment_text'])\n",
    "    tfidf_test_X = tfidf_word.transform(test_X['comment_text'])\n",
    "    return tfidf_X, tfidf_test_X, tfidf_word"
   ]
  },
  {
   "cell_type": "code",
   "execution_count": 3,
   "metadata": {},
   "outputs": [],
   "source": [
    "train = pd.read_csv('../datasets/processed_train.csv', index_col='id')\n",
    "test_X = pd.read_csv('../datasets/processed_test.csv', index_col='id')\n",
    "test_y = pd.read_csv('../datasets/test_labels.csv', index_col='id')\n",
    "X = train[['comment_text']]  \n",
    "y = train[['toxic']] "
   ]
  },
  {
   "cell_type": "code",
   "execution_count": 4,
   "metadata": {},
   "outputs": [],
   "source": [
    "estimators = [i*20 for i in range(1, 11)]"
   ]
  },
  {
   "cell_type": "code",
   "execution_count": 5,
   "metadata": {},
   "outputs": [],
   "source": [
    "max_features = 40000\n",
    "tfidf_X, tfidf_test_X, model_tfidf = tfidf(X, test_X, max_features)"
   ]
  },
  {
   "cell_type": "code",
   "execution_count": 6,
   "metadata": {},
   "outputs": [
    {
     "name": "stdout",
     "output_type": "stream",
     "text": [
      "20:\n",
      "Time 0:0:9.845136\n",
      "40:\n",
      "Time 0:0:18.358715\n",
      "60:\n",
      "Time 0:0:27.026644\n",
      "80:\n",
      "Time 0:0:36.794747\n",
      "100:\n",
      "Time 0:0:46.695155\n",
      "120:\n",
      "Time 0:0:51.284080\n",
      "140:\n",
      "Time 0:1:4.217320\n",
      "160:\n",
      "Time 0:1:12.578690\n",
      "180:\n",
      "Time 0:1:23.047448\n",
      "200:\n",
      "Time 0:1:23.250754\n"
     ]
    }
   ],
   "source": [
    "#0 - log_loss, 1 - precision, 2 - roc_auc\n",
    "cv_score = []\n",
    "test_score = []\n",
    "features = []\n",
    "for i in estimators:\n",
    "    print('%d:' % i)\n",
    "    rf = model_rf_gcv(tfidf_X, y, i)\n",
    "    features.append(rf.best_estimator_.feature_importances_)\n",
    "    pred_y = rf.predict(tfidf_test_X)\n",
    "    pred_proba = rf.predict_proba(tfidf_test_X)\n",
    "    cv_score.append({0:rf.cv_results_['mean_test_log_loss'][0],\n",
    "                     1:rf.cv_results_['mean_test_precision'][0],\n",
    "                     2:rf.cv_results_['mean_test_roc_auc'][0]})\n",
    "    test_score.append({0:log_loss(test_y, pred_proba),\n",
    "                       1:precision_score(test_y, pred_y),\n",
    "                       2:roc_auc_score(test_y, pred_y)})\n",
    "    "
   ]
  },
  {
   "cell_type": "code",
   "execution_count": 7,
   "metadata": {},
   "outputs": [
    {
     "data": {
      "text/plain": [
       "Text(0.5, 1.0, 'Логистическая функция потерь')"
      ]
     },
     "execution_count": 7,
     "metadata": {},
     "output_type": "execute_result"
    },
    {
     "data": {
      "image/png": "[encoded data removed]",
      "text/plain": [
       "<Figure size 432x288 with 1 Axes>"
      ]
     },
     "metadata": {
      "needs_background": "light"
     },
     "output_type": "display_data"
    }
   ],
   "source": [
    "plt.plot(estimators,[x[0] for x in cv_score],  'go-', \n",
    "         label='line 1', linewidth = 2, color = 'red')\n",
    "plt.plot(estimators, [x[0] for x in test_score],  'go-', \n",
    "         label='line 1', linewidth = 2, color = 'green')\n",
    "plt.ylim(0, 1)\n",
    "plt.xlim(0, 20*len(estimators) + 10)\n",
    "plt.ylabel('Оценка качества')\n",
    "plt.xlabel('Количество деревьев')\n",
    "plt.title('Логистическая функция потерь')"
   ]
  },
  {
   "cell_type": "code",
   "execution_count": 8,
   "metadata": {},
   "outputs": [
    {
     "data": {
      "text/plain": [
       "Text(0.5, 1.0, 'Точность')"
      ]
     },
     "execution_count": 8,
     "metadata": {},
     "output_type": "execute_result"
    },
    {
     "data": {
      "image/png": "[encoded data removed]",
      "text/plain": [
       "<Figure size 432x288 with 1 Axes>"
      ]
     },
     "metadata": {
      "needs_background": "light"
     },
     "output_type": "display_data"
    }
   ],
   "source": [
    "plt.plot(estimators,[x[1] for x in cv_score],  'go-', \n",
    "         label='line 1', linewidth = 2, color = 'red')\n",
    "plt.plot(estimators, [x[1] for x in test_score],  'go-', \n",
    "         label='line 1', linewidth = 2, color = 'green')\n",
    "plt.ylim(0, 1)\n",
    "plt.xlim(0, 20*len(estimators) + 10)\n",
    "plt.ylabel('Оценка качества')\n",
    "plt.xlabel('Количество деревьев')\n",
    "plt.title('Точность')"
   ]
  },
  {
   "cell_type": "code",
   "execution_count": 9,
   "metadata": {},
   "outputs": [
    {
     "data": {
      "text/plain": [
       "Text(0.5, 1.0, 'ROC-AUC')"
      ]
     },
     "execution_count": 9,
     "metadata": {},
     "output_type": "execute_result"
    },
    {
     "data": {
      "image/png": "[encoded data removed]",
      "text/plain": [
       "<Figure size 432x288 with 1 Axes>"
      ]
     },
     "metadata": {
      "needs_background": "light"
     },
     "output_type": "display_data"
    }
   ],
   "source": [
    "plt.plot(estimators,[x[2] for x in cv_score],  'go-', \n",
    "         label='line 1', linewidth = 2, color = 'red')\n",
    "plt.plot(estimators, [x[2] for x in test_score],  'go-', \n",
    "         label='line 1', linewidth = 2, color = 'green')\n",
    "plt.ylim(0, 1)\n",
    "plt.xlim(0, 20*len(estimators) + 10)\n",
    "plt.ylabel('Оценка качества')\n",
    "plt.xlabel('Количество деревьев')\n",
    "plt.title('ROC-AUC')"
   ]
  },
  {
   "cell_type": "code",
   "execution_count": 10,
   "metadata": {},
   "outputs": [],
   "source": [
    "cv_scores = pd.DataFrame( index=estimators, columns=['ROC-AUC', 'Precision', 'Log loss'])\n",
    "cv_scores['ROC-AUC'] = [round(x[2], 6) for x in cv_score]\n",
    "cv_scores['Log loss'] =  [round(x[0], 6) for x in cv_score]\n",
    "cv_scores['Precision'] =  [round(x[1], 6) for x in cv_score]\n",
    "cv_scores.to_csv('scores_cv.csv')"
   ]
  },
  {
   "cell_type": "code",
   "execution_count": 11,
   "metadata": {},
   "outputs": [],
   "source": [
    "test_scores = pd.DataFrame( index=estimators, columns=['ROC-AUC', 'Precision', 'Log loss'])\n",
    "test_scores['ROC-AUC'] = [round(x[2], 6) for x in test_score]\n",
    "test_scores['Log loss'] =  [round(x[0], 6) for x in test_score]\n",
    "test_scores['Precision'] =  [round(x[1], 6) for x in test_score]\n",
    "test_scores.to_csv('scores_test.csv')"
   ]
  },
  {
   "cell_type": "code",
   "execution_count": 12,
   "metadata": {},
   "outputs": [
    {
     "data": {
      "text/plain": [
       "['octob',\n",
       " 'engag',\n",
       " 'war',\n",
       " 'revert',\n",
       " 'revers',\n",
       " 'singl',\n",
       " 'period',\n",
       " 'adit',\n",
       " 'perform',\n",
       " 'larg',\n",
       " 'content',\n",
       " 'disput',\n",
       " 'block',\n",
       " 'technic',\n",
       " 'violat',\n",
       " 'rule',\n",
       " 'continu',\n",
       " 'repeat',\n",
       " 'word',\n",
       " 'consensus',\n",
       " 'editor',\n",
       " 'resolut',\n",
       " 'edit war',\n",
       " 'block edit',\n",
       " 'revert rule',\n",
       " 'continu block',\n",
       " 'revert edit',\n",
       " 'infobox',\n",
       " 'document',\n",
       " 'format',\n",
       " 'stand',\n",
       " 'fine',\n",
       " 'present',\n",
       " 'liter',\n",
       " 'eror',\n",
       " 'put',\n",
       " 'citat',\n",
       " 'requir',\n",
       " 'statement',\n",
       " 'controversi',\n",
       " 'sili',\n",
       " 'preti',\n",
       " 'grace',\n",
       " 'god',\n",
       " 'lame',\n",
       " 'latest',\n",
       " 'final',\n",
       " 'releas',\n",
       " 'album',\n",
       " 'write',\n",
       " 'end',\n",
       " 'back',\n",
       " 'distinct',\n",
       " 'atempt',\n",
       " 'british',\n",
       " 'schol',\n",
       " 'ident',\n",
       " 'world',\n",
       " 'univers',\n",
       " 'debat',\n",
       " 'acur',\n",
       " 'understand',\n",
       " 'style',\n",
       " 'john',\n",
       " 'memori',\n",
       " 'run',\n",
       " 'speak',\n",
       " 'mention',\n",
       " 'conduct',\n",
       " 'section',\n",
       " 'object',\n",
       " 'joke',\n",
       " 'folow',\n",
       " 'tel',\n",
       " 'person',\n",
       " 'atack',\n",
       " 'cher',\n",
       " 'person atack',\n",
       " 'mental',\n",
       " 'status',\n",
       " 'stori',\n",
       " 'septemb',\n",
       " 'year',\n",
       " 'shot',\n",
       " 'kil',\n",
       " 'ofici',\n",
       " 'report',\n",
       " 'finish',\n",
       " 'file',\n",
       " 'state',\n",
       " 'product',\n",
       " 'suport',\n",
       " 'comon',\n",
       " 'point',\n",
       " 'turn',\n",
       " 'member',\n",
       " 'interview',\n",
       " 'group',\n",
       " 'confirm',\n",
       " 'part',\n",
       " 'honest',\n",
       " 'real',\n",
       " 'record',\n",
       " 'love',\n",
       " 'includ',\n",
       " 'washington',\n",
       " 'stop',\n",
       " 'peni',\n",
       " 'gay',\n",
       " 'warn',\n",
       " 'vandal',\n",
       " 'vandal edit',\n",
       " 'pictur',\n",
       " 'long',\n",
       " 'histori',\n",
       " 'abus',\n",
       " 'fel',\n",
       " 'lot',\n",
       " 'funi',\n",
       " 'decid',\n",
       " 'cri',\n",
       " 'notic',\n",
       " 'peopl',\n",
       " 'ban',\n",
       " 'apli',\n",
       " 'problem',\n",
       " 'sad',\n",
       " 'fucker',\n",
       " 'check',\n",
       " 'mis',\n",
       " 'hapi',\n",
       " 'shut',\n",
       " 'fuck',\n",
       " 'shut fuck',\n",
       " 'top',\n",
       " 'factual',\n",
       " 'entri',\n",
       " 'place',\n",
       " 'shame',\n",
       " 'reason',\n",
       " 'merg',\n",
       " 'condit',\n",
       " 'duplic',\n",
       " 'qualiti',\n",
       " 'propos',\n",
       " 'exampl',\n",
       " 'district',\n",
       " 'contrib',\n",
       " 'black',\n",
       " 'efect',\n",
       " 'acept',\n",
       " 'opinion',\n",
       " 'difer',\n",
       " 'conflict',\n",
       " 'interest',\n",
       " 'discus',\n",
       " 'improv',\n",
       " 'conflict interest',\n",
       " 'discus articl',\n",
       " 'novemb',\n",
       " 'utc',\n",
       " 'hapen',\n",
       " 'februari',\n",
       " 'day',\n",
       " 'sourc',\n",
       " 'reliabl',\n",
       " 'base',\n",
       " 'view',\n",
       " 'sourc reliabl',\n",
       " 'point view',\n",
       " 'evid',\n",
       " 'delet',\n",
       " 'juli',\n",
       " 'chang',\n",
       " 'sugest',\n",
       " 'imag',\n",
       " 'fail',\n",
       " 'research',\n",
       " 'contact',\n",
       " 'ful',\n",
       " 'woman',\n",
       " 'dog',\n",
       " 'argu',\n",
       " 'hope',\n",
       " 'spend',\n",
       " 'click',\n",
       " 'argument',\n",
       " 'delet delet',\n",
       " 'delet discus',\n",
       " 'edit click',\n",
       " 'fagot',\n",
       " 'dumb',\n",
       " 'mine',\n",
       " 'websit',\n",
       " 'knowledg',\n",
       " 'grow',\n",
       " 'confus',\n",
       " 'color',\n",
       " 'die',\n",
       " 'half']"
      ]
     },
     "execution_count": 12,
     "metadata": {},
     "output_type": "execute_result"
    }
   ],
   "source": [
    "features_imp = []\n",
    "features_ = features[9] \n",
    "\n",
    "for word, idx in model_tfidf.vocabulary_.items():\n",
    "    if features_[idx]>0:\n",
    "        features_imp.append((features_[idx], word))\n",
    "\n",
    "sorted(features_imp, key = lambda x: x[0])\n",
    "features_imp = list(map(lambda x: x[1], features_imp))\n",
    "features_imp[:200]"
   ]
  },
  {
   "cell_type": "code",
   "execution_count": null,
   "metadata": {},
   "outputs": [],
   "source": []
  },
  {
   "cell_type": "code",
   "execution_count": null,
   "metadata": {},
   "outputs": [],
   "source": []
  },
  {
   "cell_type": "code",
   "execution_count": null,
   "metadata": {},
   "outputs": [],
   "source": []
  },
  {
   "cell_type": "code",
   "execution_count": null,
   "metadata": {},
   "outputs": [],
   "source": []
  },
  {
   "cell_type": "code",
   "execution_count": null,
   "metadata": {},
   "outputs": [],
   "source": []
  },
  {
   "cell_type": "code",
   "execution_count": null,
   "metadata": {},
   "outputs": [],
   "source": []
  },
  {
   "cell_type": "code",
   "execution_count": null,
   "metadata": {},
   "outputs": [],
   "source": []
  },
  {
   "cell_type": "code",
   "execution_count": null,
   "metadata": {},
   "outputs": [],
   "source": []
  },
  {
   "cell_type": "code",
   "execution_count": null,
   "metadata": {},
   "outputs": [],
   "source": []
  },
  {
   "cell_type": "code",
   "execution_count": null,
   "metadata": {},
   "outputs": [],
   "source": []
  },
  {
   "cell_type": "code",
   "execution_count": null,
   "metadata": {},
   "outputs": [],
   "source": []
  },
  {
   "cell_type": "code",
   "execution_count": null,
   "metadata": {},
   "outputs": [],
   "source": []
  },
  {
   "cell_type": "code",
   "execution_count": null,
   "metadata": {},
   "outputs": [],
   "source": []
  }
 ],
 "metadata": {
  "kernelspec": {
   "display_name": "Python 3",
   "language": "python",
   "name": "python3"
  },
  "language_info": {
   "codemirror_mode": {
    "name": "ipython",
    "version": 3
   },
   "file_extension": ".py",
   "mimetype": "text/x-python",
   "name": "python",
   "nbconvert_exporter": "python",
   "pygments_lexer": "ipython3",
   "version": "3.6.5"
  }
 },
 "nbformat": 4,
 "nbformat_minor": 2
}
